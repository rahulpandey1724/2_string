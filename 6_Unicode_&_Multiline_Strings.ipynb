{
 "cells": [
  {
   "cell_type": "markdown",
   "id": "a0b46958",
   "metadata": {},
   "source": [
    "<h1>Section 6: Unicode & Multiline Strings (Intermediate to Advanced)</h1> \n",
    "1. Create strings containing characters from at least three different writing systems (e.g., \n",
    "Latin, Cyrillic, Arabic, CJK).</br></br> \n",
    "2. Write a function that counts the number of characters in a Unicode string, taking into \n",
    "account combining characters and surrogate pairs.</br></br> \n",
    "3. Create a multi-line string containing a short poem or quote with proper formatting.</br></br> \n",
    "4. Create a function that takes a multi-line string and returns the line with the most \n",
    "characters."
   ]
  },
  {
   "cell_type": "code",
   "execution_count": 2,
   "id": "5d6d6d45",
   "metadata": {},
   "outputs": [
    {
     "name": "stdout",
     "output_type": "stream",
     "text": [
      "Hello (Latin), Привет (Cyrillic), مرحبا (Arabic)\n",
      "Welcome (Latin), 你好 (Chinese), こんにちは (Japanese)\n",
      "Greetings (Latin), 안녕하세요 (Korean), السلام عليكم (Arabic)\n"
     ]
    }
   ],
   "source": [
    "# Create strings containing characters from at least three different writing systems (e.g., Latin, Cyrillic, Arabic, CJK)\n",
    "\n",
    "string_1 = \"Hello (Latin), Привет (Cyrillic), مرحبا (Arabic)\"\n",
    "print(string_1)\n",
    "\n",
    "string_2 = \"Welcome (Latin), 你好 (Chinese), こんにちは (Japanese)\"\n",
    "print(string_2)\n",
    "\n",
    "string_3 = \"Greetings (Latin), 안녕하세요 (Korean), السلام عليكم (Arabic)\"\n",
    "print(string_3)\n"
   ]
  },
  {
   "cell_type": "code",
   "execution_count": 3,
   "id": "7c4048e3",
   "metadata": {},
   "outputs": [
    {
     "name": "stdout",
     "output_type": "stream",
     "text": [
      "12\n"
     ]
    }
   ],
   "source": [
    "# Write a function that counts the number of characters in a Unicode string, taking into account combining characters and surrogate pairs\n",
    "\n",
    "def count_characters(str):\n",
    "    count = 0\n",
    "\n",
    "    for i in str:\n",
    "        count += 1\n",
    "    \n",
    "    return count\n",
    "\n",
    "str = \"Hello\\u1F60ARahul\"\n",
    "print(count_characters(str))"
   ]
  },
  {
   "cell_type": "code",
   "execution_count": 18,
   "id": "e24cb465",
   "metadata": {},
   "outputs": [
    {
     "name": "stdout",
     "output_type": "stream",
     "text": [
      "A city bright, beneath the sun,\n",
      "Jaipur's beauty, second to none.\n",
      "Hawa Mahal's grace, a sight to see,\n",
      "Amber Fort, history's decree.\n",
      "Jaipur's spirit, wild and free.\n"
     ]
    }
   ],
   "source": [
    "# Create a multi-line string containing a short poem or quote with proper formatting\n",
    "\n",
    "poem = \"\"\"A city bright, beneath the sun,\n",
    "Jaipur's beauty, second to none.\n",
    "Hawa Mahal's grace, a sight to see,\n",
    "Amber Fort, history's decree.\n",
    "Jaipur's spirit, wild and free.\"\"\"\n",
    "\n",
    "print(poem)"
   ]
  },
  {
   "cell_type": "code",
   "execution_count": 17,
   "id": "f7c227a8",
   "metadata": {},
   "outputs": [
    {
     "name": "stdout",
     "output_type": "stream",
     "text": [
      "Hawa Mahal's grace, a sight to see,\n"
     ]
    }
   ],
   "source": [
    "# Create a function that takes a multi-line string and returns the line with the most characters\n",
    "\n",
    "def line_with_max_charaters(str):\n",
    "    str_list = str.split('\\n')\n",
    "    max_char = ''\n",
    "\n",
    "    for i in str_list:\n",
    "        if len(max_char) < len(i):\n",
    "            max_char = i\n",
    "    \n",
    "    return max_char\n",
    "\n",
    "poem = \"\"\"A city bright, beneath the sun,\n",
    "Jaipur's beauty, second to none.\n",
    "Hawa Mahal's grace, a sight to see,\n",
    "Amber Fort, history's decree.\n",
    "Jaipur's spirit, wild and free.\"\"\"\n",
    "\n",
    "result = line_with_max_charaters(poem)\n",
    "print(result)"
   ]
  },
  {
   "cell_type": "code",
   "execution_count": null,
   "id": "abc246f9",
   "metadata": {},
   "outputs": [
    {
     "data": {
      "text/plain": [
       "31"
      ]
     },
     "execution_count": 9,
     "metadata": {},
     "output_type": "execute_result"
    }
   ],
   "source": []
  }
 ],
 "metadata": {
  "kernelspec": {
   "display_name": "Python 3",
   "language": "python",
   "name": "python3"
  },
  "language_info": {
   "codemirror_mode": {
    "name": "ipython",
    "version": 3
   },
   "file_extension": ".py",
   "mimetype": "text/x-python",
   "name": "python",
   "nbconvert_exporter": "python",
   "pygments_lexer": "ipython3",
   "version": "3.12.1"
  }
 },
 "nbformat": 4,
 "nbformat_minor": 5
}
