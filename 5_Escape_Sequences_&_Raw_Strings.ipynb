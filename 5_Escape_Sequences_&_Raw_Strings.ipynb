{
 "cells": [
  {
   "cell_type": "markdown",
   "id": "7904f0e5",
   "metadata": {},
   "source": [
    "<h1>Section 5: Escape Sequences & Raw Strings (Intermediate)</h1> \n",
    "1. Create a string that includes tab characters, newlines, and quotes using escape sequences.</br></br> \n",
    "2. Explain when you would use raw strings in Python and provide an example with file \n",
    "paths.</br></br> \n",
    "3. Create a function that formats a multi-line address with proper newlines and indentation \n",
    "using escape sequences.</br></br> \n",
    "4. Write a program that takes a Windows file path (with backslashes) as input and correctly \n",
    "processes it using raw strings. \n"
   ]
  },
  {
   "cell_type": "code",
   "execution_count": 3,
   "id": "f62a594d",
   "metadata": {},
   "outputs": [
    {
     "name": "stdout",
     "output_type": "stream",
     "text": [
      "i am studing \n",
      "Data structure and algorithm\tfrom euron\n"
     ]
    }
   ],
   "source": [
    "# Create a string that includes tab characters, newlines, and quotes using escape sequences.\n",
    "\n",
    "str = \"i am studing \\nData structure and algorithm\\tfrom euron\"\n",
    "print(str) "
   ]
  },
  {
   "cell_type": "code",
   "execution_count": 22,
   "id": "fcfa153f",
   "metadata": {},
   "outputs": [
    {
     "name": "stdout",
     "output_type": "stream",
     "text": [
      "C:\\users\\rahul\\documents\n"
     ]
    }
   ],
   "source": [
    "# Explain when you would use raw strings in Python and provide an example with file paths\n",
    "\n",
    "path = r\"C:\\users\\rahul\\documents\"\n",
    "print(path)\n",
    "# -> raw string is use to read the window file path"
   ]
  },
  {
   "cell_type": "code",
   "execution_count": 10,
   "id": "c6edd762",
   "metadata": {},
   "outputs": [
    {
     "name": "stdout",
     "output_type": "stream",
     "text": [
      "rahul pandey\n",
      "xyz\n",
      "nimbahera\tchittorgarh\n"
     ]
    }
   ],
   "source": [
    "# Create a function that formats a multi-line address with proper newlines and indentation using escape sequences\n",
    "\n",
    "def format_mutli_line_string(name=None ,address=None ,city=None ,state=None):\n",
    "    return f\"{name}\\n{address}\\n{city}\\t{state}\"\n",
    "\n",
    "name = \"rahul pandey\"\n",
    "address = \"xyz\"\n",
    "city = \"nimbahera\"\n",
    "state = \"chittorgarh\"\n",
    "\n",
    "result = format_mutli_line_string(name, address, city, state)\n",
    "print(result)"
   ]
  },
  {
   "cell_type": "code",
   "execution_count": 15,
   "id": "a6e389fa",
   "metadata": {},
   "outputs": [
    {
     "name": "stdout",
     "output_type": "stream",
     "text": [
      "C:\\Users\\Rahul\\Documents\n"
     ]
    }
   ],
   "source": [
    "# Write a program that takes a Windows file path (with backslashes) as input and correctly processes it using raw string\n",
    "\n",
    "path = input(\"Enter a windows path with backslashes\") # input -> C:\\Users\\Rahul\\Documents\n",
    "raw_str = fr\"{path}\"\n",
    "print(raw_str)"
   ]
  },
  {
   "cell_type": "code",
   "execution_count": null,
   "id": "fd7e6b0f",
   "metadata": {},
   "outputs": [],
   "source": []
  }
 ],
 "metadata": {
  "kernelspec": {
   "display_name": "Python 3",
   "language": "python",
   "name": "python3"
  },
  "language_info": {
   "codemirror_mode": {
    "name": "ipython",
    "version": 3
   },
   "file_extension": ".py",
   "mimetype": "text/x-python",
   "name": "python",
   "nbconvert_exporter": "python",
   "pygments_lexer": "ipython3",
   "version": "3.12.1"
  }
 },
 "nbformat": 4,
 "nbformat_minor": 5
}
