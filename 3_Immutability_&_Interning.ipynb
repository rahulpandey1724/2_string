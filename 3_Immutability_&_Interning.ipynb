{
 "cells": [
  {
   "cell_type": "markdown",
   "id": "78aa3f3f",
   "metadata": {},
   "source": [
    "<h1>Section 3: Immutability & Interning (Intermediate)</h1> \n",
    "1. Demonstrate string immutability with an example. Try to change a character in a string \n",
    "and explain what happens.</br></br> \n",
    "2. Write code to check if two strings with the same content point to the same memory \n",
    "location. Test this with:</br> \n",
    "o Two string literals with the same content</br> \n",
    "o Two string variables assigned the same string literal</br> \n",
    "o Two string variables created using string operations that result in the same content</br></br> \n",
    "3. Create a function that efficiently concatenates a large number of strings. Compare your \n",
    "approach with using the + operator in a loop"
   ]
  },
  {
   "cell_type": "code",
   "execution_count": null,
   "id": "2ccf1326",
   "metadata": {},
   "outputs": [],
   "source": [
    "# Demonstrate string immutability with an example. Try to change a character in a string and explain what happens\n",
    "\n",
    "str = \"Hello World\"\n",
    "\n",
    "# str[0] = 'a'\n",
    "\n",
    "# above statement give error\n",
    "# that mean that string is a immutability object because in immutable object we cannot change same object in same memory address\n",
    "# that why immutable object does not suppoet assignment(=) operator\n",
    "# that why above statement give error"
   ]
  },
  {
   "cell_type": "code",
   "execution_count": null,
   "id": "735e4b0f",
   "metadata": {},
   "outputs": [
    {
     "name": "stdout",
     "output_type": "stream",
     "text": [
      "140734638920504\n",
      "140734638920504\n",
      "True\n",
      "rahul\n",
      "rahul\n",
      "2011951416064\n",
      "2011951416064\n",
      "True\n"
     ]
    }
   ],
   "source": [
    "# Write code to check if two strings with the same content point to the same memory location. Test this with: \n",
    "#     o Two string literals with the same content \n",
    "#     o Two string variables assigned the same string literal \n",
    "#     o Two string variables created using string operations that result in the same content\n",
    "\n",
    "# two string with same content and two string variable assign to the same string\n",
    "str_1 = \"string\"\n",
    "str_2 = \"string\"\n",
    "\n",
    "print(id(str_1))\n",
    "print(id(str_2))\n",
    "print(str_1 == str_2)\n",
    "\n",
    "# two string variable created using string operation that result in the same content\n",
    "\n",
    "str_3 = \"ra\" + \"hul\"\n",
    "str_4 = \"rahu\" + \"l\"\n",
    "\n",
    "print(str_3)\n",
    "print(str_4)\n",
    "print(id(str_3))\n",
    "print(id(str_4))\n",
    "print(str_3 == str_4)"
   ]
  },
  {
   "cell_type": "code",
   "execution_count": 19,
   "id": "d4ac7157",
   "metadata": {},
   "outputs": [
    {
     "name": "stdout",
     "output_type": "stream",
     "text": [
      "PythonProgramming\n"
     ]
    }
   ],
   "source": [
    "# Create a function that efficiently concatenates a large number of strings. Compare your approach with using the + operator in a loop\n",
    "\n",
    "def concatenates(str):\n",
    "    concatenates_str = ''\n",
    "    for i in str:\n",
    "        concatenates_str += i\n",
    "    \n",
    "    return concatenates_str\n",
    "\n",
    "list_str = [\"Python\", \"Programming\"]\n",
    "result = concatenates(list_str)\n",
    "print(result)"
   ]
  },
  {
   "cell_type": "code",
   "execution_count": null,
   "id": "958911a3",
   "metadata": {},
   "outputs": [],
   "source": []
  }
 ],
 "metadata": {
  "kernelspec": {
   "display_name": "Python 3",
   "language": "python",
   "name": "python3"
  },
  "language_info": {
   "codemirror_mode": {
    "name": "ipython",
    "version": 3
   },
   "file_extension": ".py",
   "mimetype": "text/x-python",
   "name": "python",
   "nbconvert_exporter": "python",
   "pygments_lexer": "ipython3",
   "version": "3.12.1"
  }
 },
 "nbformat": 4,
 "nbformat_minor": 5
}
