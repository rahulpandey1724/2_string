{
 "cells": [
  {
   "cell_type": "markdown",
   "id": "6b196d1b",
   "metadata": {},
   "source": [
    "<h1>Section 1: Creating & Accessing Strings (Basic)</h1> \n",
    "1. Create three different strings using different quotation methods (single quotes, double \n",
    "quotes, and triple quotes).</br></br> \n",
    "2. Create a string variable containing your full name and write code to:</br> \n",
    "o Print the first character</br> \n",
    "o Print the last character</br> \n",
    "o Print the length of the string</br></br> \n",
    "3. Given the string s = \"Python Programming\":</br> \n",
    "o Access and print the letter 'P' in \"Programming\" using positive indexing</br> \n",
    "o Access and print the letter 'P' in \"Programming\" using negative indexing"
   ]
  },
  {
   "cell_type": "code",
   "execution_count": 3,
   "id": "432aebb2",
   "metadata": {},
   "outputs": [
    {
     "name": "stdout",
     "output_type": "stream",
     "text": [
      "string using single quotes\n",
      "string using double quotes\n",
      "string using triple double qoutes\n"
     ]
    }
   ],
   "source": [
    "# Create three different strings using different quotation methods (single quotes, double quotes, and triple quotes)\n",
    "\n",
    "str_1 = 'string using single quotes'\n",
    "str_2 = \"string using double quotes\"\n",
    "str_3 = \"\"\"string using triple double qoutes\"\"\"\n",
    "\n",
    "print(str_1)\n",
    "print(str_2)\n",
    "print(str_3)"
   ]
  },
  {
   "cell_type": "code",
   "execution_count": null,
   "id": "a24205ce",
   "metadata": {},
   "outputs": [
    {
     "name": "stdout",
     "output_type": "stream",
     "text": [
      "first character of name is r\n",
      "last character of name is y\n",
      "lenght of string is 12\n"
     ]
    }
   ],
   "source": [
    "# Create a string variable containing your full name and write code to: \n",
    "#     o Print the first character \n",
    "#     o Print the last character \n",
    "#     o Print the length of the string\n",
    "\n",
    "full_name = \"rahul pandey\"\n",
    "\n",
    "print(f\"first character of name is {full_name[0]}\")\n",
    "print(f\"last character of name is {full_name[len(full_name)-1]}\")\n",
    "print(f\"lenght of string is {len(full_name)}\")"
   ]
  },
  {
   "cell_type": "code",
   "execution_count": 8,
   "id": "02131812",
   "metadata": {},
   "outputs": [
    {
     "name": "stdout",
     "output_type": "stream",
     "text": [
      "using positve index P\n",
      "using negative index P\n"
     ]
    }
   ],
   "source": [
    "# Given the string s = \"Python Programming\": \n",
    "#     o Access and print the letter 'P' in \"Programming\" using positive indexing \n",
    "#     o Access and print the letter 'P' in \"Programming\" using negative indexing\n",
    "\n",
    "s = \"Python Programming\"\n",
    "\n",
    "print(f\"using positve index {s[7]}\")\n",
    "print(f\"using negative index {s[-11]}\")"
   ]
  },
  {
   "cell_type": "code",
   "execution_count": null,
   "id": "f8c5401c",
   "metadata": {},
   "outputs": [],
   "source": []
  }
 ],
 "metadata": {
  "kernelspec": {
   "display_name": "Python 3",
   "language": "python",
   "name": "python3"
  },
  "language_info": {
   "codemirror_mode": {
    "name": "ipython",
    "version": 3
   },
   "file_extension": ".py",
   "mimetype": "text/x-python",
   "name": "python",
   "nbconvert_exporter": "python",
   "pygments_lexer": "ipython3",
   "version": "3.12.1"
  }
 },
 "nbformat": 4,
 "nbformat_minor": 5
}
