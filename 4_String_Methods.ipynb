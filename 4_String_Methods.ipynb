{
 "cells": [
  {
   "cell_type": "markdown",
   "id": "e0cf9735",
   "metadata": {},
   "source": [
    "<h1>Section 4: String Methods (Intermediate)</h1> \n",
    "1. Given the string s = \" Python is Amazing! \":</br> \n",
    "o Remove leading and trailing whitespace</br> \n",
    "o Convert to all uppercase</br> \n",
    "o Convert to all lowercase</br> \n",
    "o Replace \"Amazing\" with \"Awesome\"</br></br> \n",
    "2. Write a function that counts the occurrences of each character in a string and returns a \n",
    "dictionary with the results.</br></br> \n",
    "3. Create a function that checks if a string is a palindrome (reads the same backward as \n",
    "forward), ignoring case, spaces, and punctuation.</br></br> \n",
    "4. Given s = \"python,java,c++,javascript,ruby\":</br> \n",
    "o Split the string into a list of programming languages \n",
    "o Join the list with a different separator (e.g., \" | \")"
   ]
  },
  {
   "cell_type": "code",
   "execution_count": 9,
   "id": "c205bc4c",
   "metadata": {},
   "outputs": [
    {
     "name": "stdout",
     "output_type": "stream",
     "text": [
      " Python is Amazing! \n",
      "Python is Amazing!\n",
      "PYTHON IS AMAZING!\n",
      "python is amazing!\n",
      "Python is Awesome!\n"
     ]
    }
   ],
   "source": [
    "s = \" Python is Amazing! \"\n",
    "\n",
    "# remove leading and tariling whitespace\n",
    "print(s) # before removing\n",
    "s = s.strip()\n",
    "print(s) # after removing\n",
    "\n",
    "#convert to upper case\n",
    "print(s.upper())\n",
    "\n",
    "# convert to lower case\n",
    "print(s.lower())\n",
    "\n",
    "# replace \"Amazing\" with \"Awesome\"\n",
    "print(s.replace(\"Amazing\",\"Awesome\"))"
   ]
  },
  {
   "cell_type": "code",
   "execution_count": 24,
   "id": "a3fb14ec",
   "metadata": {},
   "outputs": [
    {
     "name": "stdout",
     "output_type": "stream",
     "text": [
      "{'i': 2, ' ': 4, 'a': 1, 'm': 2, 's': 1, 't': 1, 'u': 2, 'd': 1, 'n': 2, 'g': 1, 'f': 1, 'r': 2, 'o': 2, 'e': 1}\n"
     ]
    }
   ],
   "source": [
    "# Write a function that counts the occurrences of each character in a string and returns a dictionary with the results\n",
    "\n",
    "def count_occurrences(str):\n",
    "    dict_list = {}\n",
    "    char_list = []\n",
    "\n",
    "    for i in str:\n",
    "        count_char = 0\n",
    "        if i in char_list:\n",
    "            continue\n",
    "\n",
    "        char_list.append(i)\n",
    "        count_char = str.count(i)\n",
    "        dict_list[i] = count_char\n",
    "    \n",
    "    return dict_list\n",
    "\n",
    "str = \"i am studing from euron\"\n",
    "result = count_occurrences(str)\n",
    "print(result)"
   ]
  },
  {
   "cell_type": "code",
   "execution_count": 25,
   "id": "4ec68c70",
   "metadata": {},
   "outputs": [
    {
     "data": {
      "text/plain": [
       "'mam id palindrome'"
      ]
     },
     "execution_count": 25,
     "metadata": {},
     "output_type": "execute_result"
    }
   ],
   "source": [
    "# Create a function that checks if a string is a palindrome (reads the same backward as forward), ignoring case, spaces, and punctuation\n",
    "\n",
    "def palindrome(str):\n",
    "    return str[::-1] == str\n",
    "\n",
    "word = \"mam\"\n",
    "is_palindrome = palindrome(word)\n",
    "\n",
    "f\"{word} id palindrome\" if is_palindrome else f\"{word} id not palindrome\""
   ]
  },
  {
   "cell_type": "code",
   "execution_count": 27,
   "id": "a0651136",
   "metadata": {},
   "outputs": [
    {
     "name": "stdout",
     "output_type": "stream",
     "text": [
      "['python', 'java', 'c++', 'javascript', 'ruby']\n",
      "python|java|c++|javascript|ruby\n"
     ]
    }
   ],
   "source": [
    "# Given s = \"python,java,c++,javascript,ruby\": \n",
    "#     o Split the string into a list of programming languages \n",
    "#     o Join the list with a different separator (e.g., \" | \")\n",
    "\n",
    "s = \"python,java,c++,javascript,ruby\"\n",
    "\n",
    "# Split the string into a list of programming languages\n",
    "str_list = s.split(',')\n",
    "print(str_list)\n",
    "\n",
    "# Join the list with a different separator (e.g., \" | \")\n",
    "print(\"|\".join(str_list))"
   ]
  },
  {
   "cell_type": "code",
   "execution_count": null,
   "id": "03fc756c",
   "metadata": {},
   "outputs": [],
   "source": []
  }
 ],
 "metadata": {
  "kernelspec": {
   "display_name": "Python 3",
   "language": "python",
   "name": "python3"
  },
  "language_info": {
   "codemirror_mode": {
    "name": "ipython",
    "version": 3
   },
   "file_extension": ".py",
   "mimetype": "text/x-python",
   "name": "python",
   "nbconvert_exporter": "python",
   "pygments_lexer": "ipython3",
   "version": "3.12.1"
  }
 },
 "nbformat": 4,
 "nbformat_minor": 5
}
