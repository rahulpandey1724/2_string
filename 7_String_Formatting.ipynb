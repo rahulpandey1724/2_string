{
 "cells": [
  {
   "cell_type": "markdown",
   "id": "cd3a5146",
   "metadata": {},
   "source": [
    "<h1>Section 7: String Formatting (Advanced)</h1>\n",
    "1. Format the same data using all three main formatting methods (f-strings, .format(), and \n",
    "% formatting):</br> \n",
    "o Format a floating-point number to two decimal places</br> \n",
    "o Format an integer with leading zeros</br> \n",
    "o Format a string with fixed width and alignment</br></br> \n",
    "2. Given a dictionary with student information (name, ID, grades), create formatted output \n",
    "using all three formatting methods.</br></br> \n",
    "3. Create a function that generates a table of data with proper alignment using f-strings.</br></br> \n",
    "4. Write a program that formats dates and times in different regional formats using string \n",
    "formatting."
   ]
  },
  {
   "cell_type": "code",
   "execution_count": 50,
   "id": "316e2ba2",
   "metadata": {},
   "outputs": [
    {
     "name": "stdout",
     "output_type": "stream",
     "text": [
      "num is 2.70\n",
      "num is 2.70\n",
      "num is 2.70\n",
      "005\n",
      "00005\n",
      "05\n",
      "euron---------- 5\n",
      "euron---------- 5\n",
      "euron           5\n"
     ]
    }
   ],
   "source": [
    "# Format the same data using all three main formatting methods (f-strings, .format(), and % formatting): \n",
    "#     o Format a floating-point number to two decimal places \n",
    "#     o Format an integer with leading zeros \n",
    "#     o Format a string with fixed width and alignment\n",
    "\n",
    "# Format a floating-point number to two decimal places\n",
    "float_num = 2.69999\n",
    "print(f\"num is {float_num:.2f}\") # using f-string\n",
    "\n",
    "print(\"num is {:.2f}\".format(float_num)) # using .format\n",
    "\n",
    "print(\"num is %.2f\" %(float_num)) # using % formatting\n",
    "\n",
    "# format an integer with lead zeros\n",
    "num = 5\n",
    "print(f\"{num:03d}\") # using f-string\n",
    "\n",
    "print(\"{:05d}\".format(num)) # using .format\n",
    "\n",
    "print(\"%02d\" %(num)) # using % formatting\n",
    "\n",
    "# format string with fixed width and alignment\n",
    "str = \"euron\"\n",
    "print(f\"{str:-<15} {num}\")\n",
    "\n",
    "print(\"{:-<15} {}\".format(str,num))\n",
    "\n",
    "print(\"%-15s %d\" % (str,num))"
   ]
  },
  {
   "cell_type": "code",
   "execution_count": 57,
   "id": "458a5fd8",
   "metadata": {},
   "outputs": [
    {
     "name": "stdout",
     "output_type": "stream",
     "text": [
      "student name is rahul age is 21 grades is A\n",
      "student name is aaska age is 19 grades is A\n",
      "student name is rahul age is 21 grades is A\n",
      "student name is aaska age is 19 grades is A\n",
      "student name is rahul age is 21 grades is A\n",
      "student name is aaska age is 19 grades is A\n"
     ]
    }
   ],
   "source": [
    "# Given a dictionary with student information (name, ID, grades), create formatted output using all three formatting methods.\n",
    "\n",
    "student_details = {\"1\" : {\"name\" : \"rahul\", \"age\" : 21, \"grades\" : 'A'},\n",
    "                   \"2\" : {\"name\" : \"aaska\", \"age\" : 19, \"grades\" : 'A'}}\n",
    "\n",
    "# using f-string\n",
    "\n",
    "for i in student_details:\n",
    "    print(f\"student name is {student_details[i][\"name\"]} age is {student_details[i][\"age\"]} grades is {student_details[i][\"grades\"]}\")\n",
    "\n",
    "# using .format()\n",
    "for i in student_details:\n",
    "    print(\"student name is {} age is {} grades is {}\".format(student_details[i][\"name\"],student_details[i][\"age\"],student_details[i][\"grades\"]))\n",
    "\n",
    "# using % formatting\n",
    "for i in student_details:\n",
    "    print(\"student name is %s age is %d grades is %s\" %(student_details[i][\"name\"],student_details[i][\"age\"],student_details[i][\"grades\"]))"
   ]
  },
  {
   "cell_type": "code",
   "execution_count": 58,
   "id": "7a43c176",
   "metadata": {},
   "outputs": [
    {
     "name": "stdout",
     "output_type": "stream",
     "text": [
      "rahul pandey         21    A++  \n",
      "yash verma           21    A    \n",
      "tushar tinker        21    B++  \n",
      "vishal               21    B    \n"
     ]
    }
   ],
   "source": [
    "# Create a function that generates a table of data with proper alignment using f-strings\n",
    "\n",
    "data_set = {\"1\" : {\"name\" : \"rahul pandey\", \"age\" : 21, \"grades\" : 'A++'},\n",
    "            \"2\" : {\"name\" : \"yash verma\", \"age\" : 21, \"grades\" : \"A\"},\n",
    "            \"3\" : {\"name\" : \"tushar tinker\", \"age\" : 21, \"grades\" : \"B++\"},\n",
    "            \"4\" : {\"name\" : \"vishal\", \"age\" : 21, \"grades\" : \"B\"}}\n",
    "\n",
    "for i in data_set:\n",
    "    print(f\"{data_set[i][\"name\"]:<20} {data_set[i][\"age\"]:<5} {data_set[i][\"grades\"]:<5}\")"
   ]
  },
  {
   "cell_type": "code",
   "execution_count": 85,
   "id": "0547e009",
   "metadata": {},
   "outputs": [
    {
     "name": "stdout",
     "output_type": "stream",
     "text": [
      "DATE : 29-06-2025 TIME : 17-10-25\n"
     ]
    }
   ],
   "source": [
    "# Write a program that formats dates and times in different regional formats using string formatting\n",
    "\n",
    "from datetime import datetime\n",
    "\n",
    "def regional_formated_date(regional):\n",
    "    if regional == \"indian\":\n",
    "        print(f\"DATE : {datetime.now().strftime(\"%d-%m-%Y\"):<5} TIME : {datetime.now().strftime(\"%H-%M-%S\")}\")\n",
    "    elif regional == \"us\":\n",
    "        print(f\"DATE : {datetime.now().strftime(\"%m-%d-%Y\"):<5} TIME : {datetime.now().strftime(\"%H-%M-%S\")}\")\n",
    "    elif regional == \"uk\":\n",
    "        print(f\"DATE : {datetime.now().strftime(\"%Y-%m-%d\"):<5} TIME : {datetime.now().strftime(\"%H-%M-%S\")}\")\n",
    "    else:\n",
    "        print(\"Not SUPPORTED REGION\")\n",
    "\n",
    "regional_formated_date(\"indian\")"
   ]
  },
  {
   "cell_type": "code",
   "execution_count": null,
   "id": "17616d86",
   "metadata": {},
   "outputs": [],
   "source": []
  }
 ],
 "metadata": {
  "kernelspec": {
   "display_name": "Python 3",
   "language": "python",
   "name": "python3"
  },
  "language_info": {
   "codemirror_mode": {
    "name": "ipython",
    "version": 3
   },
   "file_extension": ".py",
   "mimetype": "text/x-python",
   "name": "python",
   "nbconvert_exporter": "python",
   "pygments_lexer": "ipython3",
   "version": "3.12.1"
  }
 },
 "nbformat": 4,
 "nbformat_minor": 5
}
