{
 "cells": [
  {
   "cell_type": "markdown",
   "id": "3b9aaa78",
   "metadata": {},
   "source": [
    "<h1>Section 2: Slicing & Extended Slicing (Basic to Intermediate)</h1> \n",
    "1. Using the string s = \"Python Programming\":</br> \n",
    "o Extract and print \"Python\"</br> \n",
    "o Extract and print \"Programming\"</br> \n",
    "o Extract and print \"gram\"</br></br> \n",
    "2. Given s = \"0123456789\":</br> \n",
    "o Extract every even-indexed character</br> \n",
    "o Extract every odd-indexed character</br> \n",
    "o Reverse the string using slicing</br></br> \n",
    "3. Create a function that takes a string and returns a \"rotated\" version where the first \n",
    "character is moved to the end. For example, \"Python\" becomes \"ythonP\"."
   ]
  },
  {
   "cell_type": "code",
   "execution_count": 7,
   "id": "d6484265",
   "metadata": {},
   "outputs": [
    {
     "name": "stdout",
     "output_type": "stream",
     "text": [
      "Python\n",
      "Programming\n",
      "gram\n"
     ]
    }
   ],
   "source": [
    "# Using the string s = \"Python Programming\": \n",
    "#     o Extract and print \"Python\" \n",
    "#     o Extract and print \"Programming\" \n",
    "#     o Extract and print \"gram\"\n",
    "\n",
    "s = \"Python Programming\"\n",
    "\n",
    "print(s[0:6])\n",
    "print(s[7:20])\n",
    "print(s[10:14])"
   ]
  },
  {
   "cell_type": "code",
   "execution_count": 11,
   "id": "074ceff4",
   "metadata": {},
   "outputs": [
    {
     "name": "stdout",
     "output_type": "stream",
     "text": [
      "even number index 02468\n",
      "odd number index 13579\n",
      "reverse string 9876543210\n"
     ]
    }
   ],
   "source": [
    "# Given s = \"0123456789\": \n",
    "#     o Extract every even-indexed character \n",
    "#     o Extract every odd-indexed character \n",
    "#     o Reverse the string using slicing\n",
    "\n",
    "s = \"0123456789\"\n",
    "print(f\"even number index {s[0:11:2]}\")\n",
    "print(f\"odd number index {s[1:11:2]}\")\n",
    "print(f\"reverse string {s[::-1]}\")"
   ]
  },
  {
   "cell_type": "code",
   "execution_count": 13,
   "id": "9db0f073",
   "metadata": {},
   "outputs": [
    {
     "name": "stdout",
     "output_type": "stream",
     "text": [
      "ythonP\n"
     ]
    }
   ],
   "source": [
    "# Create a function that takes a string and returns a \"rotated\" version where the first character is moved to the end. For example, \"Python\" becomes \"ythonP\"\n",
    "\n",
    "def rotated_string(str):\n",
    "    rotated_str = str[1:len(str)+1] + str[0]\n",
    "    return rotated_str\n",
    "\n",
    "print(rotated_string(\"Python\"))"
   ]
  },
  {
   "cell_type": "code",
   "execution_count": null,
   "id": "dbf40327",
   "metadata": {},
   "outputs": [],
   "source": []
  }
 ],
 "metadata": {
  "kernelspec": {
   "display_name": "Python 3",
   "language": "python",
   "name": "python3"
  },
  "language_info": {
   "codemirror_mode": {
    "name": "ipython",
    "version": 3
   },
   "file_extension": ".py",
   "mimetype": "text/x-python",
   "name": "python",
   "nbconvert_exporter": "python",
   "pygments_lexer": "ipython3",
   "version": "3.12.1"
  }
 },
 "nbformat": 4,
 "nbformat_minor": 5
}
